{
 "cells": [
  {
   "cell_type": "code",
   "execution_count": null,
   "metadata": {},
   "outputs": [],
   "source": [
    "#modules\n",
    "import os\n",
    "import cv2\n",
    "import torch\n",
    "import numpy as np\n",
    "\n",
    "from PIL import Image\n",
    "from matplotlib import pyplot as plt\n",
    "\n",
    "from core import networks\n",
    "\n",
    "from tools.ai import torch_utils, augment_utils\n",
    "from tools.general import io_utils, json_utils, time_utils, cv_utils"
   ]
  },
  {
   "cell_type": "code",
   "execution_count": null,
   "metadata": {},
   "outputs": [],
   "source": [
    "#preprocessing\n",
    "imagenet_mean = [0.485, 0.456, 0.406]\n",
    "imagenet_std = [0.229, 0.224, 0.225]\n",
    "\n",
    "test_transform = augment_utils.Compose([\n",
    "    augment_utils.Normalize(imagenet_mean, imagenet_std),\n",
    "    augment_utils.Transpose(),\n",
    "])"
   ]
  },
  {
   "cell_type": "code",
   "execution_count": null,
   "metadata": {},
   "outputs": [],
   "source": [
    "data_dict = json_utils.read_json(f'./data/VOC.json')\n",
    "\n",
    "class_names = np.asarray(data_dict['class_names'][1:])\n",
    "colors = cv_utils.get_colors(data_dict)"
   ]
  },
  {
   "cell_type": "code",
   "execution_count": null,
   "metadata": {},
   "outputs": [],
   "source": [
    "model = networks.RSEPM(\n",
    "    'resnet50', data_dict['num_classes']-1, \n",
    "    class_fn='sigmoid', output_stride=16, feature_size=256\n",
    ")\n",
    "\n",
    "model.eval()\n",
    "if torch.cuda.is_available():\n",
    "    model.cuda()\n",
    "\n",
    "torch_utils.load_model(model, './experiments/models/ResNet50@VOC@RS+EPM@Official/last.pth')"
   ]
  },
  {
   "cell_type": "code",
   "execution_count": null,
   "metadata": {},
   "outputs": [],
   "source": [
    "# inference\n",
    "image = Image.open('./resources/2007_009346_Image.png')\n",
    "\n",
    "w, h = image.size\n",
    "\n",
    "tensor = test_transform({'image': image, 'mask': None})['image']\n",
    "tensor = torch.from_numpy(tensor)\n",
    "\n",
    "if torch.cuda.is_available():\n",
    "    tensor = tensor.cuda()\n",
    "\n",
    "params = {\n",
    "    \"image\": tensor,\n",
    "    \"image_size\": (h, w),\n",
    "\n",
    "    \"scales\": [1.0, 0.5, 1.5, 2.0],\n",
    "    \"hflip\": True,\n",
    "\n",
    "    \"with_decoder\": True,\n",
    "\n",
    "    \"same\": True,\n",
    "    \"interpolation\": \"nearest\"\n",
    "}\n",
    "output_dict = model.forward_with_scales(**params)\n",
    "\n",
    "pred_class = output_dict['pred_class']\n",
    "pred_mask = output_dict['pred_mask']"
   ]
  },
  {
   "cell_type": "code",
   "execution_count": null,
   "metadata": {},
   "outputs": [],
   "source": [
    "# postprocessing\n",
    "conf_th = 0.34 \n",
    "\n",
    "class_mask = (pred_class >= conf_th).float()\n",
    "class_mask = class_mask[:, None, None]\n",
    "\n",
    "\n",
    "seed = torch_utils.normalize(pred_mask[1:] * class_mask)"
   ]
  },
  {
   "cell_type": "code",
   "execution_count": null,
   "metadata": {},
   "outputs": [],
   "source": [
    "# visualization\n",
    "cv_image = np.asarray(image)[..., ::-1]\n",
    "\n",
    "seed = torch_utils.get_numpy(seed)\n",
    "seed = cv_utils.apply_colormap(seed)\n",
    "\n",
    "print(cv_image.shape, seed.shape)\n",
    "\n",
    "demo = np.concatenate([cv_image, seed], axis=1)\n",
    "\n",
    "plt.imshow(demo[..., ::-1])"
   ]
  }
 ],
 "metadata": {
  "kernelspec": {
   "display_name": "Python 3.7.4 64-bit",
   "language": "python",
   "name": "python3"
  },
  "language_info": {
   "codemirror_mode": {
    "name": "ipython",
    "version": 3
   },
   "file_extension": ".py",
   "mimetype": "text/x-python",
   "name": "python",
   "nbconvert_exporter": "python",
   "pygments_lexer": "ipython3",
   "version": "3.7.4"
  },
  "orig_nbformat": 4,
  "vscode": {
   "interpreter": {
    "hash": "949777d72b0d2535278d3dc13498b2535136f6dfe0678499012e853ee9abcab1"
   }
  }
 },
 "nbformat": 4,
 "nbformat_minor": 2
}
